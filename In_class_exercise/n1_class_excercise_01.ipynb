{
  "nbformat": 4,
  "nbformat_minor": 0,
  "metadata": {
    "colab": {
      "name": "Untitled2.ipynb",
      "provenance": [],
      "collapsed_sections": [],
      "authorship_tag": "ABX9TyNHQTA07lKiJZOlcJwqkvwq",
      "include_colab_link": true
    },
    "kernelspec": {
      "name": "python3",
      "display_name": "Python 3"
    }
  },
  "cells": [
    {
      "cell_type": "markdown",
      "metadata": {
        "id": "view-in-github",
        "colab_type": "text"
      },
      "source": [
        "<a href=\"https://colab.research.google.com/github/suraj-hash/Suraj_INFO5731_Spring2020-/blob/masters/In_class_exercise/n1_class_excercise_01.ipynb\" target=\"_parent\"><img src=\"https://colab.research.google.com/assets/colab-badge.svg\" alt=\"Open In Colab\"/></a>"
      ]
    },
    {
      "cell_type": "markdown",
      "metadata": {
        "id": "uhs9up3rR8Eo"
      },
      "source": [
        ""
      ]
    },
    {
      "cell_type": "markdown",
      "metadata": {
        "id": "EbSCqbikSB4-"
      },
      "source": [
        "#Python program to calculate the length of a string"
      ]
    },
    {
      "cell_type": "code",
      "metadata": {
        "colab": {
          "base_uri": "https://localhost:8080/"
        },
        "id": "ef3inDMtSMTp",
        "outputId": "fa40f4e0-8433-4ba8-ae82-f1c6fdf7180a"
      },
      "source": [
        "str = input(\"Enter a string: \")\r\n",
        "counter = 0\r\n",
        "for s in str:\r\n",
        "      counter = counter+1\r\n",
        "print(\"Length of the input string is:\", counter)"
      ],
      "execution_count": 2,
      "outputs": [
        {
          "output_type": "stream",
          "text": [
            "Enter a string: SURAJ\n",
            "Length of the input string is: 5\n"
          ],
          "name": "stdout"
        }
      ]
    },
    {
      "cell_type": "markdown",
      "metadata": {
        "id": "4JxlAWMHTZHX"
      },
      "source": [
        "#Python program to count the number of characters in a string"
      ]
    },
    {
      "cell_type": "code",
      "metadata": {
        "colab": {
          "base_uri": "https://localhost:8080/"
        },
        "id": "KKYeJcGCTeeG",
        "outputId": "c02f6324-5a35-46ff-99b6-351effa7b0ea"
      },
      "source": [
        "str1 = input(\"Please Enter your Own String : \")\r\n",
        "total = 0\r\n",
        " \r\n",
        "for i in str1:\r\n",
        "    total = total + 1\r\n",
        " \r\n",
        "print(\"Total Number of Characters in this String = \", total)"
      ],
      "execution_count": 12,
      "outputs": [
        {
          "output_type": "stream",
          "text": [
            "Please Enter your Own String : happy republic day\n",
            "Total Number of Characters in this String =  18\n"
          ],
          "name": "stdout"
        }
      ]
    },
    {
      "cell_type": "markdown",
      "metadata": {
        "id": "bStJNZ8OWO0g"
      },
      "source": [
        "# Python program to sum all the items in a list"
      ]
    },
    {
      "cell_type": "code",
      "metadata": {
        "colab": {
          "base_uri": "https://localhost:8080/"
        },
        "id": "hBigQ_XoWPJz",
        "outputId": "0ae65add-c1b6-46f8-c1a9-6d99ffe28fcd"
      },
      "source": [
        "lst = []\r\n",
        "num = int(input('How many numbers: '))\r\n",
        "for n in range(num):\r\n",
        "    numbers = int(input('Enter number '))\r\n",
        "    lst.append(numbers)\r\n",
        "print(\"Sum of elements in given list is :\", sum(lst))"
      ],
      "execution_count": 13,
      "outputs": [
        {
          "output_type": "stream",
          "text": [
            "How many numbers: 2\n",
            "Enter number 10\n",
            "Enter number 8\n",
            "Sum of elements in given list is : 18\n"
          ],
          "name": "stdout"
        }
      ]
    },
    {
      "cell_type": "markdown",
      "metadata": {
        "id": "p9Yqzcs1W7nI"
      },
      "source": [
        "#Python program to get a string from a given string where all occurrences of its first char have been changed to '\\\\$', except the first char itself"
      ]
    },
    {
      "cell_type": "code",
      "metadata": {
        "colab": {
          "base_uri": "https://localhost:8080/"
        },
        "id": "tOUYeiQGW70u",
        "outputId": "6f8f0ee0-9d19-4f81-ed63-b3f2c3e4f1d5"
      },
      "source": [
        "def change_char(str1):\r\n",
        "  char = str1[0]\r\n",
        "  str1 = str1.replace(char, '$')\r\n",
        "  str1 = char + str1[1:]\r\n",
        "\r\n",
        "  return str1\r\n",
        "\r\n",
        "print(change_char('restart'))"
      ],
      "execution_count": 14,
      "outputs": [
        {
          "output_type": "stream",
          "text": [
            "resta$t\n"
          ],
          "name": "stdout"
        }
      ]
    },
    {
      "cell_type": "markdown",
      "metadata": {
        "id": "HirufqilXr0f"
      },
      "source": [
        "#Write a program with python which could accept two parameter a and b to calculate and output the result of S, where \\n\",\r\n",
        "    \"\\n\",\r\n",
        "    \"$\\\\ S=3.14*(1+a/b)^3$"
      ]
    },
    {
      "cell_type": "code",
      "metadata": {
        "colab": {
          "base_uri": "https://localhost:8080/"
        },
        "id": "NXfE9n9OXr9w",
        "outputId": "41c060c3-679f-413b-e717-620627f86af9"
      },
      "source": [
        "a,b = map(int, input() . split(\",\") )\r\n",
        "s = 3.14*(1+a/b)**3\r\n",
        "print(s) "
      ],
      "execution_count": 16,
      "outputs": [
        {
          "output_type": "stream",
          "text": [
            "1,2\n",
            "10.5975\n"
          ],
          "name": "stdout"
        }
      ]
    },
    {
      "cell_type": "markdown",
      "metadata": {
        "id": "wT8noubmZz5t"
      },
      "source": [
        "#Write a Python program to concatenate following dictionaries to create a new one\r\n",
        " dic1={1:10, 2:20}, dic2={3:30, 4:40}, dic3={5:50,6:60}"
      ]
    },
    {
      "cell_type": "code",
      "metadata": {
        "colab": {
          "base_uri": "https://localhost:8080/"
        },
        "id": "B63FiGuMZ0gi",
        "outputId": "455acd1c-9588-4820-ce5c-e38fa2d0d5bc"
      },
      "source": [
        "dic1={1:10, 2:20}\r\n",
        "dic2={3:30, 4:40}\r\n",
        "dic3={5:50,6:60}\r\n",
        "dic4 = {}\r\n",
        "for d in (dic1, dic2, dic3): dic4.update(d)\r\n",
        "print(dic4)"
      ],
      "execution_count": 19,
      "outputs": [
        {
          "output_type": "stream",
          "text": [
            "{1: 10, 2: 20, 3: 30, 4: 40, 5: 50, 6: 60}\n"
          ],
          "name": "stdout"
        }
      ]
    },
    {
      "cell_type": "markdown",
      "metadata": {
        "id": "KT-i0WRJbTSZ"
      },
      "source": [
        "#program to check whether an element exists within a tuple"
      ]
    },
    {
      "cell_type": "code",
      "metadata": {
        "colab": {
          "base_uri": "https://localhost:8080/"
        },
        "id": "rBkDtSJKbTmE",
        "outputId": "12c97ff3-744c-4dbe-bb01-4469c8023c0f"
      },
      "source": [
        "t = (1, 2, 3, 4, 5, 6, 7, 8)\r\n",
        "print('The tuple is:', t)\r\n",
        "\r\n",
        "print('100 exists in t: ', (10 in t))\r\n",
        "\r\n",
        "# -- Check if any value 10 exist.\r\n",
        "print('10 exists in t: ', (8 in t))\r\n",
        "\r\n",
        "# -- Check if any value 23 exist.\r\n",
        "print('23 exists in t: ', (6 in t))"
      ],
      "execution_count": 20,
      "outputs": [
        {
          "output_type": "stream",
          "text": [
            "The tuple is: (1, 2, 3, 4, 5, 6, 7, 8)\n",
            "100 exists in t:  False\n",
            "10 exists in t:  True\n",
            "23 exists in t:  True\n"
          ],
          "name": "stdout"
        }
      ]
    },
    {
      "cell_type": "markdown",
      "metadata": {
        "id": "Lk8XlG13cXbG"
      },
      "source": [
        "#Write a Python program to find maximum and the minimum value in a set"
      ]
    },
    {
      "cell_type": "code",
      "metadata": {
        "colab": {
          "base_uri": "https://localhost:8080/"
        },
        "id": "qQiij0eYcXq_",
        "outputId": "95b68ec0-c73a-4555-c630-f57a03e28fa7"
      },
      "source": [
        "#Create a set\r\n",
        "seta = set([5, 10, 3, 15, 2, 20])\r\n",
        "#Find maximum value\r\n",
        "print(max(seta))\r\n",
        "#Find minimum value\r\n",
        "print(min(seta))"
      ],
      "execution_count": 21,
      "outputs": [
        {
          "output_type": "stream",
          "text": [
            "20\n",
            "2\n"
          ],
          "name": "stdout"
        }
      ]
    },
    {
      "cell_type": "markdown",
      "metadata": {
        "id": "lHFSFd52cpL3"
      },
      "source": [
        "#Write a Python program to randomly divide the students in this class into five groups for term projects, each group should have at least 3 students but no more than 5 students (including 5). Here is the students list: (3 points for extra)\\n\",\r\n",
        "    \"\\n\",\r\n",
        "    \"studnet_list = ['vmb0067','pc0353','snd0097','yye0005','sg0940','bk0301','rak0120','rrk0058','spk0057','vl0135','nm0547','pn0159',\\n\",\r\n",
        "    \"                'msp0174','dd0420','ds0761','rs0850','ss1995','at0739','at0768','mv0299','tv0119','dy0091']\""
      ]
    },
    {
      "cell_type": "code",
      "metadata": {
        "colab": {
          "base_uri": "https://localhost:8080/"
        },
        "id": "uuU20S_gcpoO",
        "outputId": "ee19e707-db1e-4c90-fc8d-c1d59ce74104"
      },
      "source": [
        "import random\n",
        "from itertools import islice\n",
        "#input\n",
        "student_list = ['vmb0067','pc0353','snd0097','yye0005','sg0940','bk0301','rak0120','rrk0058','spk0057','vl0135','nm0547','pn0159', 'msp0174','dd0420','ds0761','rs0850','ss1995','at0739','at0768','mv0299','tv0119','dy0091']\n",
        "#this is to split the input list with each chunk in range of 3 and 5\n",
        "length_to_split = []\n",
        "\n",
        "#first assigning split length list with range of 3 and 5\n",
        "for i in range(5):\n",
        " length_to_split.append(random.randint(3,5))\n",
        "\n",
        "#if the split length list is not equal to length of input list\n",
        "for i in range(5):\n",
        " if sum(length_to_split)!=len(student_list):\n",
        "  if length_to_split[i]==3 or length_to_split[i]==4:\n",
        "   length_to_split[i] = length_to_split[i] + 1\n",
        "else:\n",
        "#this is the operation to split the list into chunk with given\n",
        " Input = iter(student_list)\n",
        "Output = [list(islice(Input, elem)) for elem in length_to_split]\n",
        "  \n",
        "print(\"Initial list is:\\n\", student_list )\n",
        "print(\"\\nSplit length list: \\n\", length_to_split)\n",
        "print(\"\\nList after splitting\\n\", Output)"
      ],
      "execution_count": 121,
      "outputs": [
        {
          "output_type": "stream",
          "text": [
            "Initial list is:\n",
            " ['vmb0067', 'pc0353', 'snd0097', 'yye0005', 'sg0940', 'bk0301', 'rak0120', 'rrk0058', 'spk0057', 'vl0135', 'nm0547', 'pn0159', 'msp0174', 'dd0420', 'ds0761', 'rs0850', 'ss1995', 'at0739', 'at0768', 'mv0299', 'tv0119', 'dy0091']\n",
            "\n",
            "Split length list: \n",
            " [5, 5, 4, 4, 4]\n",
            "\n",
            "List after splitting\n",
            " [['vmb0067', 'pc0353', 'snd0097', 'yye0005', 'sg0940'], ['bk0301', 'rak0120', 'rrk0058', 'spk0057', 'vl0135'], ['nm0547', 'pn0159', 'msp0174', 'dd0420'], ['ds0761', 'rs0850', 'ss1995', 'at0739'], ['at0768', 'mv0299', 'tv0119', 'dy0091']]\n"
          ],
          "name": "stdout"
        }
      ]
    }
  ]
}