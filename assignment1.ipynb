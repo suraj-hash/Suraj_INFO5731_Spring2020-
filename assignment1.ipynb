{
  "nbformat": 4,
  "nbformat_minor": 0,
  "metadata": {
    "colab": {
      "name": "Untitled4.ipynb",
      "provenance": [],
      "collapsed_sections": [],
      "toc_visible": true,
      "authorship_tag": "ABX9TyO8NVON2Yg9n0JxeYV00iEu",
      "include_colab_link": true
    },
    "kernelspec": {
      "name": "python3",
      "display_name": "Python 3"
    }
  },
  "cells": [
    {
      "cell_type": "markdown",
      "metadata": {
        "id": "view-in-github",
        "colab_type": "text"
      },
      "source": [
        "<a href=\"https://colab.research.google.com/github/suraj-hash/Suraj_INFO5731_Spring2020-/blob/masters/assignment1.ipynb\" target=\"_parent\"><img src=\"https://colab.research.google.com/assets/colab-badge.svg\" alt=\"Open In Colab\"/></a>"
      ]
    },
    {
      "cell_type": "markdown",
      "metadata": {
        "id": "D2AwWBNaALH3"
      },
      "source": [
        "# Write a Python program to generate 12 random numbers between 1 and 100. Sort the list of numbers in ascending order and print it out. Sort the list of numbers in descending order and print it out. Calculate the average for the group and print it out."
      ]
    },
    {
      "cell_type": "code",
      "metadata": {
        "colab": {
          "base_uri": "https://localhost:8080/"
        },
        "id": "nzTAH1J1-QDB",
        "outputId": "cd3141f4-720b-4510-bd8c-a90b8a2c9693"
      },
      "source": [
        "from random import seed\r\n",
        "from random import choice\r\n",
        "# seed random number generator\r\n",
        "seed(1)\r\n",
        "\r\n",
        "9\r\n",
        "sequence = [i for i in range(1,100)]\r\n",
        "print(sequence)\r\n",
        "# make choices from the sequence\r\n",
        "for _ in range(12):\r\n",
        " selection = choice(sequence)\r\n",
        "print(selection)\r\n",
        "\r\n",
        "def main():\r\n",
        "  \r\n",
        "    listOfNum = [23, 45, 21, 45, 2, 5, 11, 50, 1, 67,33,55]\r\n",
        "    \r\n",
        "    \r\n",
        "    # print the List\r\n",
        "    print(\"Initial List\", listOfNum,  sep='\\n')\r\n",
        "        \r\n",
        "    \r\n",
        "    print(\"Sorting the List in ascending Order\")\r\n",
        "    \r\n",
        "    # Create a sorted copy of existing list\r\n",
        "    newList = sorted(listOfNum)\r\n",
        "     # print the List\r\n",
        "    print(\"New List\", newList,  sep='\\n')\r\n",
        "     # print the List\r\n",
        "    print(\"Existing List\", listOfNum,  sep='\\n')\r\n",
        "    \r\n",
        "    # Sort the List in Place\r\n",
        "    listOfNum.sort()\r\n",
        "    # print the List\r\n",
        "    print(\"List Sorted in Ascending Order\", listOfNum,  sep='\\n')\r\n",
        "    print(\"Sorting the List in Descending Order\")\r\n",
        "    \r\n",
        "    # Create a sorted copy of existing list\r\n",
        "    newList = sorted(listOfNum, reverse=True)\r\n",
        "     # print the List\r\n",
        "    print(\"New List\", newList,  sep='\\n')\r\n",
        "     # print the List\r\n",
        "    print(\"Existing List\", listOfNum,  sep='\\n')\r\n",
        "    \r\n",
        "    # Sort the List in Place (Descending Order)\r\n",
        "    listOfNum.sort(reverse=True)\r\n",
        "    # print the List\r\n",
        "    print(\"List Sorted in Descending Order\", listOfNum,  sep='\\n')\r\n",
        "if __name__ == \"__main__\":\r\n",
        "    main()\r\n",
        "\r\n",
        "    # Example to find the average of the list\r\n",
        "from statistics import mean\r\n",
        " \r\n",
        "number_list = [23, 45, 21, 45, 2, 5, 11, 50, 1, 67,33,55]\r\n",
        "avg = mean(number_list)\r\n",
        "print(\"The average is \", round(avg,2))"
      ],
      "execution_count": null,
      "outputs": [
        {
          "output_type": "stream",
          "text": [
            "[1, 2, 3, 4, 5, 6, 7, 8, 9, 10, 11, 12, 13, 14, 15, 16, 17, 18, 19, 20, 21, 22, 23, 24, 25, 26, 27, 28, 29, 30, 31, 32, 33, 34, 35, 36, 37, 38, 39, 40, 41, 42, 43, 44, 45, 46, 47, 48, 49, 50, 51, 52, 53, 54, 55, 56, 57, 58, 59, 60, 61, 62, 63, 64, 65, 66, 67, 68, 69, 70, 71, 72, 73, 74, 75, 76, 77, 78, 79, 80, 81, 82, 83, 84, 85, 86, 87, 88, 89, 90, 91, 92, 93, 94, 95, 96, 97, 98, 99]\n",
            "49\n",
            "Initial List\n",
            "[23, 45, 21, 45, 2, 5, 11, 50, 1, 67, 33, 55]\n",
            "Sorting the List in ascending Order\n",
            "New List\n",
            "[1, 2, 5, 11, 21, 23, 33, 45, 45, 50, 55, 67]\n",
            "Existing List\n",
            "[23, 45, 21, 45, 2, 5, 11, 50, 1, 67, 33, 55]\n",
            "List Sorted in Ascending Order\n",
            "[1, 2, 5, 11, 21, 23, 33, 45, 45, 50, 55, 67]\n",
            "Sorting the List in Descending Order\n",
            "New List\n",
            "[67, 55, 50, 45, 45, 33, 23, 21, 11, 5, 2, 1]\n",
            "Existing List\n",
            "[1, 2, 5, 11, 21, 23, 33, 45, 45, 50, 55, 67]\n",
            "List Sorted in Descending Order\n",
            "[67, 55, 50, 45, 45, 33, 23, 21, 11, 5, 2, 1]\n",
            "The average is  29.83\n"
          ],
          "name": "stdout"
        }
      ]
    },
    {
      "cell_type": "markdown",
      "metadata": {
        "id": "pAW8ZEGjHRcM"
      },
      "source": [
        "#Write a program that will do the following string formatting tasks:\r\n",
        "\r\n",
        "(1) Ask the user to enter two sentences.\r\n",
        "\r\n",
        "(2) Make each sentence into a list. Each element in the list should correspond to a word in the sentence. For example, if the sentence is \"Alas! Am I alive? This is my first python program\", the program should print out ['Alas, '!', 'Am', 'I', 'alive, '?', 'This', 'is', 'my', 'first', 'python', 'program'].\r\n",
        "\r\n",
        "(3) Compare the two sentences. Print out a list of words that occur in both sentences.\r\n",
        "\r\n",
        "(4) Remove any punctuation from the sentence and print it back out. It should remove at least the following characters, but it can remove more: period(“.”), comma (“,”), semicolon (“;”), and colon (“:”)\r\n",
        "\r\n",
        "(5) Count the number of vowels in the sentences. Print out each vowel and the number of times it appears in the sentences, such as: a:2, e:1, i:0, etc"
      ]
    },
    {
      "cell_type": "code",
      "metadata": {
        "colab": {
          "base_uri": "https://localhost:8080/"
        },
        "id": "yggYubrTHRyA",
        "outputId": "86b98204-9d68-4681-9ea8-6dc337d0f748"
      },
      "source": [
        "import string\r\n",
        "import re\r\n",
        "\r\n",
        "# part 1\r\n",
        "one = input(\"Enter first string: \")\r\n",
        "two = input(\"Enter second string: \")\r\n",
        "\r\n",
        "# part 2\r\n",
        "# this splits using space and any of the symbols in [.,!?;:]\r\n",
        "a = re.findall(r\"[\\w']+|[.,!?;:]\", one)\r\n",
        "b = re.findall(r\"[\\w']+|[.,!?;:]\", two)\r\n",
        "\r\n",
        "print(\"First list:\",a)\r\n",
        "print(\"Second list:\",b)\r\n",
        "\r\n",
        "# part 3 printing common words\r\n",
        "print(\"\\nFollowing are common\")\r\n",
        "for word in a:\r\n",
        " for other in b:\r\n",
        "   if word.lower() == other.lower():\r\n",
        "    print(word)\r\n",
        "  \r\n",
        "# part 4, checking if the string is in punctuation or not\r\n",
        "print(\"\\nFollowing are common without punctuation\")\r\n",
        "for word in a:\r\n",
        " for other in b:\r\n",
        "  if word.lower() == other.lower() and word not in string.punctuation:\r\n",
        "   print(word)\r\n",
        "  \r\n",
        "vowels = {'a':0, 'e':0, 'i':0, 'o':0, 'u':0}\r\n",
        "for letter in one:\r\n",
        " if letter.lower() in vowels:\r\n",
        "  vowels[letter.lower()] += 1\r\n",
        "\r\n",
        "print(\"\\nVowel frequency in first string:\",vowels)\r\n",
        "\r\n",
        "def sumVowel(string): \r\n",
        "    n = len(string) \r\n",
        "    sum = 0\r\n",
        "    string = string.lower() \r\n",
        "  \r\n",
        "    \r\n",
        "    for i in range(0, n): \r\n",
        "        s = string[i] \r\n",
        "  \r\n",
        "        # checks if the character is a vowel or not \r\n",
        "        if (s==\"a\" or s == \"e\" or s == \"i\" or s == \"o\" or s == \"u\"): \r\n",
        "            sum += ((n - i) * (i + 1))             \r\n",
        "  \r\n",
        "    # return the total sum of occurrence \r\n",
        "    return sum\r\n",
        "   \r\n",
        "if __name__ == '__main__':  \r\n",
        "    string = \"suraj\"\r\n",
        "    print(sumVowel(string)) \r\n",
        "  "
      ],
      "execution_count": null,
      "outputs": [
        {
          "output_type": "stream",
          "text": [
            "Enter first string: suraj is good\n",
            "Enter second string: suraj's age is 23\n",
            "First list: ['suraj', 'is', 'good']\n",
            "Second list: [\"suraj's\", 'age', 'is', '23']\n",
            "\n",
            "Following are common\n",
            "is\n",
            "\n",
            "Following are common without punctuation\n",
            "is\n",
            "\n",
            "Vowel frequency in first string: {'a': 1, 'e': 0, 'i': 1, 'o': 2, 'u': 1}\n",
            "16\n"
          ],
          "name": "stdout"
        }
      ]
    },
    {
      "cell_type": "markdown",
      "metadata": {
        "id": "aEgnLpD_JyiA"
      },
      "source": [
        "# The formula that describes the volume V of a sphere with radius r is the following:\r\n",
        "\r\n",
        "$ V=\\frac{4}{3}\\ast\\ \\pi\\ast\\ r^3 $\r\n"
      ]
    },
    {
      "cell_type": "code",
      "metadata": {
        "colab": {
          "base_uri": "https://localhost:8080/"
        },
        "id": "qqzVgco8Jy1h",
        "outputId": "6b80a94f-f986-4dcb-b1f2-9b21ccc0bbe0"
      },
      "source": [
        "import math\r\n",
        "\r\n",
        "radius = float(input('Enter radius of sphere: '))\r\n",
        "volume = (4/3) * math.pi * radius**3\r\n",
        "print('Volume = %0.4f.' % (volume))"
      ],
      "execution_count": 72,
      "outputs": [
        {
          "output_type": "stream",
          "text": [
            "Enter radius of sphere: 2\n",
            "Volume = 33.5103.\n"
          ],
          "name": "stdout"
        }
      ]
    },
    {
      "cell_type": "markdown",
      "metadata": {
        "id": "n7_DB234M6mw"
      },
      "source": [
        "#importing the file from github to colab"
      ]
    },
    {
      "cell_type": "code",
      "metadata": {
        "colab": {
          "base_uri": "https://localhost:8080/"
        },
        "id": "BDsl3HB0OASM",
        "outputId": "8decd2f3-0dd3-4a2d-b955-40e0aeb89259"
      },
      "source": [
        "!wget https://raw.githubusercontent.com/unt-iialab/info5731_spring2021/main/assignment/Assignment1_denton_housing.csv"
      ],
      "execution_count": 50,
      "outputs": [
        {
          "output_type": "stream",
          "text": [
            "--2021-02-01 20:56:47--  https://raw.githubusercontent.com/unt-iialab/info5731_spring2021/main/assignment/Assignment1_denton_housing.csv\n",
            "Resolving raw.githubusercontent.com (raw.githubusercontent.com)... 151.101.0.133, 151.101.64.133, 151.101.128.133, ...\n",
            "Connecting to raw.githubusercontent.com (raw.githubusercontent.com)|151.101.0.133|:443... connected.\n",
            "HTTP request sent, awaiting response... 200 OK\n",
            "Length: 1298 (1.3K) [text/plain]\n",
            "Saving to: ‘Assignment1_denton_housing.csv.9’\n",
            "\n",
            "\r          Assignmen   0%[                    ]       0  --.-KB/s               \rAssignment1_denton_ 100%[===================>]   1.27K  --.-KB/s    in 0s      \n",
            "\n",
            "2021-02-01 20:56:47 (35.4 MB/s) - ‘Assignment1_denton_housing.csv.9’ saved [1298/1298]\n",
            "\n"
          ],
          "name": "stdout"
        }
      ]
    },
    {
      "cell_type": "markdown",
      "metadata": {
        "id": "GDxmfxvXbD0a"
      },
      "source": [
        "#In the field of Data Science, data is often formatted as a comma-delimited (CSV) file, where each line in a file corresponds to a field's value. Refer to Chapter 9 (p. 106) for more information on comma-delimited files. To answer this question, you will need to download the file Assignment1_denton_housing.csv included with this assignment. The file Assignment1_denton_housing.csv contains statistics about housing in the city of Denton from 2008 to 2014. "
      ]
    },
    {
      "cell_type": "code",
      "metadata": {
        "colab": {
          "base_uri": "https://localhost:8080/",
          "height": 221
        },
        "id": "gz8-nqj1M60j",
        "outputId": "b37c99f7-e69b-4279-c638-29604f5d267a"
      },
      "source": [
        "import pandas as pd\r\n",
        "import statistics\r\n",
        "\r\n",
        "house = pd.read_csv('Assignment1_denton_housing.csv.9')\r\n",
        "print('Shape: ',house.shape)\r\n",
        "house.head()\r\n",
        "\r\n",
        "\r\n"
      ],
      "execution_count": 51,
      "outputs": [
        {
          "output_type": "stream",
          "text": [
            "Shape:  (42, 3)\n"
          ],
          "name": "stdout"
        },
        {
          "output_type": "execute_result",
          "data": {
            "text/html": [
              "<div>\n",
              "<style scoped>\n",
              "    .dataframe tbody tr th:only-of-type {\n",
              "        vertical-align: middle;\n",
              "    }\n",
              "\n",
              "    .dataframe tbody tr th {\n",
              "        vertical-align: top;\n",
              "    }\n",
              "\n",
              "    .dataframe thead th {\n",
              "        text-align: right;\n",
              "    }\n",
              "</style>\n",
              "<table border=\"1\" class=\"dataframe\">\n",
              "  <thead>\n",
              "    <tr style=\"text-align: right;\">\n",
              "      <th></th>\n",
              "      <th>year</th>\n",
              "      <th>title_field</th>\n",
              "      <th>value</th>\n",
              "    </tr>\n",
              "  </thead>\n",
              "  <tbody>\n",
              "    <tr>\n",
              "      <th>0</th>\n",
              "      <td>2014</td>\n",
              "      <td>Total Housing Units</td>\n",
              "      <td>49109</td>\n",
              "    </tr>\n",
              "    <tr>\n",
              "      <th>1</th>\n",
              "      <td>2014</td>\n",
              "      <td>Vacant Housing Units</td>\n",
              "      <td>2814</td>\n",
              "    </tr>\n",
              "    <tr>\n",
              "      <th>2</th>\n",
              "      <td>2014</td>\n",
              "      <td>Occupied Housing Units</td>\n",
              "      <td>46295</td>\n",
              "    </tr>\n",
              "    <tr>\n",
              "      <th>3</th>\n",
              "      <td>2013</td>\n",
              "      <td>Total Housing Units</td>\n",
              "      <td>47888</td>\n",
              "    </tr>\n",
              "    <tr>\n",
              "      <th>4</th>\n",
              "      <td>2013</td>\n",
              "      <td>Vacant Housing Units</td>\n",
              "      <td>4215</td>\n",
              "    </tr>\n",
              "  </tbody>\n",
              "</table>\n",
              "</div>"
            ],
            "text/plain": [
              "   year             title_field  value\n",
              "0  2014     Total Housing Units  49109\n",
              "1  2014    Vacant Housing Units   2814\n",
              "2  2014  Occupied Housing Units  46295\n",
              "3  2013     Total Housing Units  47888\n",
              "4  2013    Vacant Housing Units   4215"
            ]
          },
          "metadata": {
            "tags": []
          },
          "execution_count": 51
        }
      ]
    },
    {
      "cell_type": "markdown",
      "metadata": {
        "id": "fl8V7QoZY5x-"
      },
      "source": [
        "#Calculate the difference in the number of Occupied Housing Units from year to year and print it. The difference must be calculated for the consecutive years such as 2008-2009, 2009-2010 etc. Finally, print the values in the ascending order."
      ]
    },
    {
      "cell_type": "code",
      "metadata": {
        "colab": {
          "base_uri": "https://localhost:8080/"
        },
        "id": "fzdRVCxgYxiw",
        "outputId": "14ab5baa-fce7-475a-b04d-5cf61f460c88"
      },
      "source": [
        "occuped_houses = house[house['title_field'] == 'Occupied Housing Units'].sort_values(by=['year'])\r\n",
        "\r\n",
        "# the difference in the number of Occupied Housing Units from year to year\r\n",
        "diff_house = [list(occuped_houses['value'].values)[loop1] - list(occuped_houses['value'].values)[loop1+1]\\\r\n",
        "              for loop1 in range(len(occuped_houses)-1)]\r\n",
        "diff_house = sorted(diff_house)    # sorting in ascending order\r\n",
        "diff_house"
      ],
      "execution_count": 52,
      "outputs": [
        {
          "output_type": "execute_result",
          "data": {
            "text/plain": [
              "[-5091, -2622, -1565, -1404, 303, 795]"
            ]
          },
          "metadata": {
            "tags": []
          },
          "execution_count": 52
        }
      ]
    },
    {
      "cell_type": "markdown",
      "metadata": {
        "id": "AN-hilCpY-po"
      },
      "source": [
        "# For all the years, calculate the percentage of housing units which are vacant an occupied. Print the results in the following format:\r\n",
        "\r\n"
      ]
    },
    {
      "cell_type": "code",
      "metadata": {
        "colab": {
          "base_uri": "https://localhost:8080/",
          "height": 266
        },
        "id": "b51WrkpdY-4b",
        "outputId": "ed5416b2-ba66-4c69-cfae-bda1334670ca"
      },
      "source": [
        "unique_years = sorted(list(house['year'].unique()))   # legging list of unique year number\r\n",
        "# number of ocupied houses\r\n",
        "occuped_houses = house[house['title_field'] == 'Occupied Housing Units'].sort_values(by=['year'])\r\n",
        "\r\n",
        "# number of vacant houses\r\n",
        "vacant_houses = house[house['title_field'] == 'Vacant Housing Units'].sort_values(by=['year'])\r\n",
        "\r\n",
        "new_house_df = pd.DataFrame()\r\n",
        "new_house_df['year'] = unique_years\r\n",
        "new_house_df['Vacant House'] = vacant_houses['value'].values\r\n",
        "new_house_df['Occupied House'] = occuped_houses['value'].values\r\n",
        "new_house_df['Percent of Vacant House'] = [(new_house_df['Vacant House'][loop1] * 100) /\\\r\n",
        "                                           (new_house_df['Vacant House'][loop1] + new_house_df['Occupied House'][loop1])\\\r\n",
        "                                           for loop1 in range(len(new_house_df))]\r\n",
        "new_house_df['Percent of Occupied House'] = [(new_house_df['Occupied House'][loop1] * 100) /\\\r\n",
        "                                           (new_house_df['Vacant House'][loop1] + new_house_df['Occupied House'][loop1])\\\r\n",
        "                                           for loop1 in range(len(new_house_df))]\r\n",
        "new_house_df\r\n"
      ],
      "execution_count": 54,
      "outputs": [
        {
          "output_type": "execute_result",
          "data": {
            "text/html": [
              "<div>\n",
              "<style scoped>\n",
              "    .dataframe tbody tr th:only-of-type {\n",
              "        vertical-align: middle;\n",
              "    }\n",
              "\n",
              "    .dataframe tbody tr th {\n",
              "        vertical-align: top;\n",
              "    }\n",
              "\n",
              "    .dataframe thead th {\n",
              "        text-align: right;\n",
              "    }\n",
              "</style>\n",
              "<table border=\"1\" class=\"dataframe\">\n",
              "  <thead>\n",
              "    <tr style=\"text-align: right;\">\n",
              "      <th></th>\n",
              "      <th>year</th>\n",
              "      <th>Vacant House</th>\n",
              "      <th>Occupied House</th>\n",
              "      <th>Percent of Vacant House</th>\n",
              "      <th>Percent of Occupied House</th>\n",
              "    </tr>\n",
              "  </thead>\n",
              "  <tbody>\n",
              "    <tr>\n",
              "      <th>0</th>\n",
              "      <td>2008</td>\n",
              "      <td>4483</td>\n",
              "      <td>36711</td>\n",
              "      <td>10.882653</td>\n",
              "      <td>89.117347</td>\n",
              "    </tr>\n",
              "    <tr>\n",
              "      <th>1</th>\n",
              "      <td>2009</td>\n",
              "      <td>3583</td>\n",
              "      <td>35916</td>\n",
              "      <td>9.071116</td>\n",
              "      <td>90.928884</td>\n",
              "    </tr>\n",
              "    <tr>\n",
              "      <th>2</th>\n",
              "      <td>2010</td>\n",
              "      <td>3635</td>\n",
              "      <td>41007</td>\n",
              "      <td>8.142556</td>\n",
              "      <td>91.857444</td>\n",
              "    </tr>\n",
              "    <tr>\n",
              "      <th>3</th>\n",
              "      <td>2011</td>\n",
              "      <td>4213</td>\n",
              "      <td>40704</td>\n",
              "      <td>9.379522</td>\n",
              "      <td>90.620478</td>\n",
              "    </tr>\n",
              "    <tr>\n",
              "      <th>4</th>\n",
              "      <td>2012</td>\n",
              "      <td>3013</td>\n",
              "      <td>42108</td>\n",
              "      <td>6.677600</td>\n",
              "      <td>93.322400</td>\n",
              "    </tr>\n",
              "    <tr>\n",
              "      <th>5</th>\n",
              "      <td>2013</td>\n",
              "      <td>4215</td>\n",
              "      <td>43673</td>\n",
              "      <td>8.801788</td>\n",
              "      <td>91.198212</td>\n",
              "    </tr>\n",
              "    <tr>\n",
              "      <th>6</th>\n",
              "      <td>2014</td>\n",
              "      <td>2814</td>\n",
              "      <td>46295</td>\n",
              "      <td>5.730111</td>\n",
              "      <td>94.269889</td>\n",
              "    </tr>\n",
              "  </tbody>\n",
              "</table>\n",
              "</div>"
            ],
            "text/plain": [
              "   year  Vacant House  ...  Percent of Vacant House  Percent of Occupied House\n",
              "0  2008          4483  ...                10.882653                  89.117347\n",
              "1  2009          3583  ...                 9.071116                  90.928884\n",
              "2  2010          3635  ...                 8.142556                  91.857444\n",
              "3  2011          4213  ...                 9.379522                  90.620478\n",
              "4  2012          3013  ...                 6.677600                  93.322400\n",
              "5  2013          4215  ...                 8.801788                  91.198212\n",
              "6  2014          2814  ...                 5.730111                  94.269889\n",
              "\n",
              "[7 rows x 5 columns]"
            ]
          },
          "metadata": {
            "tags": []
          },
          "execution_count": 54
        }
      ]
    },
    {
      "cell_type": "markdown",
      "metadata": {
        "id": "Nmg7V3X0ZHOL"
      },
      "source": [
        "#(10 pts) Calculate and print the valued and years in which the highest number of housing units were vacant and occupied. Print the results in the following format:\r\n"
      ]
    },
    {
      "cell_type": "code",
      "metadata": {
        "colab": {
          "base_uri": "https://localhost:8080/",
          "height": 80
        },
        "id": "-uQrcCDpZHZX",
        "outputId": "5d765ea3-0185-4a6e-dbe9-8e0d08cea881"
      },
      "source": [
        "# the highest number of vacant housing units\r\n",
        "max_vacant_houses = max(house[house['title_field'] == 'Vacant Housing Units'].value)\r\n",
        "vacant_houses = vacant_houses[vacant_houses['value'] == max_vacant_houses]\r\n",
        "vacant_houses\r\n",
        "\r\n",
        "\r\n",
        "# the highest number of Occupied housing units\r\n",
        "max_occuped_houses = max(house[house['title_field'] == 'Occupied Housing Units'].value)\r\n",
        "occuped_houses = occuped_houses[occuped_houses['value'] == max_occuped_houses]\r\n",
        "occuped_houses\r\n"
      ],
      "execution_count": 55,
      "outputs": [
        {
          "output_type": "execute_result",
          "data": {
            "text/html": [
              "<div>\n",
              "<style scoped>\n",
              "    .dataframe tbody tr th:only-of-type {\n",
              "        vertical-align: middle;\n",
              "    }\n",
              "\n",
              "    .dataframe tbody tr th {\n",
              "        vertical-align: top;\n",
              "    }\n",
              "\n",
              "    .dataframe thead th {\n",
              "        text-align: right;\n",
              "    }\n",
              "</style>\n",
              "<table border=\"1\" class=\"dataframe\">\n",
              "  <thead>\n",
              "    <tr style=\"text-align: right;\">\n",
              "      <th></th>\n",
              "      <th>year</th>\n",
              "      <th>title_field</th>\n",
              "      <th>value</th>\n",
              "    </tr>\n",
              "  </thead>\n",
              "  <tbody>\n",
              "    <tr>\n",
              "      <th>2</th>\n",
              "      <td>2014</td>\n",
              "      <td>Occupied Housing Units</td>\n",
              "      <td>46295</td>\n",
              "    </tr>\n",
              "  </tbody>\n",
              "</table>\n",
              "</div>"
            ],
            "text/plain": [
              "   year             title_field  value\n",
              "2  2014  Occupied Housing Units  46295"
            ]
          },
          "metadata": {
            "tags": []
          },
          "execution_count": 55
        }
      ]
    },
    {
      "cell_type": "markdown",
      "metadata": {
        "id": "F0mruVOSZTcf"
      },
      "source": [
        "# Calculate the harmonic mean of the total housing units and print it out. You can find the information about harmonic mean here: https://ncalculators.com/statistics/harmonic-mean-calculator.htm"
      ]
    },
    {
      "cell_type": "code",
      "metadata": {
        "colab": {
          "base_uri": "https://localhost:8080/"
        },
        "id": "FJBkwr8wZTpk",
        "outputId": "676ea067-3299-486d-9448-c36f8a1b77f5"
      },
      "source": [
        "print(statistics.harmonic_mean(list(house[house['title_field'] == 'Total Housing Units'].value)))"
      ],
      "execution_count": 56,
      "outputs": [
        {
          "output_type": "stream",
          "text": [
            "44398.28543969185\n"
          ],
          "name": "stdout"
        }
      ]
    }
  ]
}