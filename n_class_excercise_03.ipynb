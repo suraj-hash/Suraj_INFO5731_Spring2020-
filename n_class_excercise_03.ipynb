{
  "nbformat": 4,
  "nbformat_minor": 0,
  "metadata": {
    "colab": {
      "name": "Untitled6.ipynb",
      "provenance": [],
      "authorship_tag": "ABX9TyPuIi2cia6FlRJYoCLFpscC",
      "include_colab_link": true
    },
    "kernelspec": {
      "name": "python3",
      "display_name": "Python 3"
    }
  },
  "cells": [
    {
      "cell_type": "markdown",
      "metadata": {
        "id": "view-in-github",
        "colab_type": "text"
      },
      "source": [
        "<a href=\"https://colab.research.google.com/github/suraj-hash/Suraj_INFO5731_Spring2020-/blob/main/n_class_excercise_03.ipynb\" target=\"_parent\"><img src=\"https://colab.research.google.com/assets/colab-badge.svg\" alt=\"Open In Colab\"/></a>"
      ]
    },
    {
      "cell_type": "markdown",
      "metadata": {
        "id": "IDNgY2JZLasQ"
      },
      "source": [
        " #create a program that calculates average and percentage marks based on marks obtained in N number of subjects.\r\n",
        " This program allows us to provide or define all the things such as total number of subject, marks obtained in all subjects, and maximum mark. After receving these inputs from us, the program calculate and prints the average and percentage marks.\r\n",
        " "
      ]
    },
    {
      "cell_type": "code",
      "metadata": {
        "colab": {
          "base_uri": "https://localhost:8080/"
        },
        "id": "eWeirNx4KdUh",
        "outputId": "f4bf3971-6898-41f1-aa56-eff97b8dc6cf"
      },
      "source": [
        "\r\n",
        "mark = []\r\n",
        "totMark = 0\r\n",
        "print(end=\"Enter Number of Subjects: \")\r\n",
        "totSub = int(input())\r\n",
        "\r\n",
        "print(end=\"Enter Marks Obtained in \" + str(totSub) + \" Subjects: \")\r\n",
        "for i in range(totSub):\r\n",
        "    mark.insert(i, int(input()))\r\n",
        "\t\r\n",
        "print(end=\"Enter Maximum Mark: \")\r\n",
        "maxMark = int(input())\r\n",
        "\r\n",
        "for i in range(totSub):\r\n",
        "    totMark = totMark + mark[i]\r\n",
        "avg = totMark/totSub\r\n",
        "perc = (totMark/(totSub*maxMark))*100\r\n",
        "\r\n",
        "print(\"Average Mark = \" + str(avg))\r\n",
        "print(\"Percentage Mark = \" + str(perc) + \"%\")"
      ],
      "execution_count": 1,
      "outputs": [
        {
          "output_type": "stream",
          "text": [
            "Enter Number of Subjects: 5\n",
            "Enter Marks Obtained in 5 Subjects: 20\n",
            "30\n",
            "79\n",
            "85\n",
            "66\n",
            "Enter Maximum Mark: 100\n",
            "Average Mark = 56.0\n",
            "Percentage Mark = 56.00000000000001%\n"
          ],
          "name": "stdout"
        }
      ]
    }
  ]
}